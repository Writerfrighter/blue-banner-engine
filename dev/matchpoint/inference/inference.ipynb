{
 "cells": [
  {
   "cell_type": "code",
   "execution_count": 340,
   "id": "b743c8e0",
   "metadata": {},
   "outputs": [],
   "source": [
    "import requests\n",
    "import pandas as pd\n",
    "import os\n",
    "from dotenv import load_dotenv\n",
    "import functools\n",
    "from xgboost import XGBClassifier, XGBRegressor\n",
    "import numpy as np\n",
    "\n",
    "load_dotenv()\n",
    "\n",
    "TBA_API_KEY = os.getenv(\"TBA_API_KEY\")\n",
    "TBA_HEADER = {\"X-TBA-Auth-Key\": TBA_API_KEY}"
   ]
  },
  {
   "cell_type": "code",
   "execution_count": 341,
   "id": "01245623",
   "metadata": {},
   "outputs": [],
   "source": [
    "\n",
    "FEATURE_ORDER = [\n",
    "    'week',\n",
    "    'red3_epa', 'red2_epa', 'red1_epa',\n",
    "    'blue3_epa', 'blue2_epa', 'blue1_epa',\n",
    "    'red3_total_points', 'red2_total_points', 'red1_total_points',\n",
    "    'blue3_total_points', 'blue2_total_points', 'blue1_total_points',\n",
    "    'red3_auto_points', 'red2_auto_points', 'red1_auto_points',\n",
    "    'blue3_auto_points', 'blue2_auto_points', 'blue1_auto_points',\n",
    "    'red3_teleop_points', 'red2_teleop_points', 'red1_teleop_points',\n",
    "    'blue3_teleop_points', 'blue2_teleop_points', 'blue1_teleop_points',\n",
    "    'red3_endgame_points', 'red2_endgame_points', 'red1_endgame_points',\n",
    "    'blue3_endgame_points', 'blue2_endgame_points', 'blue1_endgame_points',\n",
    "    'red3_rank', 'red2_rank', 'red1_rank',\n",
    "    'blue3_rank', 'blue2_rank', 'blue1_rank',\n",
    "    'red3_winrate', 'red2_winrate', 'red1_winrate',\n",
    "    'blue3_winrate', 'blue2_winrate', 'blue1_winrate',\n",
    "    'red3_coral_count', 'red2_coral_count', 'red1_coral_count',\n",
    "    'blue3_coral_count', 'blue2_coral_count', 'blue1_coral_count',\n",
    "    'red3_l4_count', 'red2_l4_count', 'red1_l4_count',\n",
    "    'blue3_l4_count', 'blue2_l4_count', 'blue1_l4_count',\n",
    "    'red3_l3_count', 'red2_l3_count', 'red1_l3_count',\n",
    "    'blue3_l3_count', 'blue2_l3_count', 'blue1_l3_count',\n",
    "    'red3_algae_count', 'red2_algae_count', 'red1_algae_count',\n",
    "    'blue3_algae_count', 'blue2_algae_count', 'blue1_algae_count',\n",
    "    'red3_opr', 'red2_opr', 'red1_opr',\n",
    "    'blue3_opr', 'blue2_opr', 'blue1_opr',\n",
    "    'red3_ccwm', 'red2_ccwm', 'red1_ccwm',\n",
    "    'blue3_ccwm', 'blue2_ccwm', 'blue1_ccwm'\n",
    "]"
   ]
  },
  {
   "cell_type": "code",
   "execution_count": 342,
   "id": "04180f76",
   "metadata": {},
   "outputs": [],
   "source": [
    "def get_sb_team_stats_event(team, event_key):\n",
    "    \n",
    "    try:\n",
    "        req = requests.get(f\"https://api.statbotics.io/v3/team_year/{str(team)}/{event_key[:4]}\")\n",
    "        \n",
    "        team_dict = req.json()\n",
    "        \n",
    "        team_info = {\n",
    "            \"event\": event_key,\n",
    "            \"team\": team_dict[\"team\"],\n",
    "            \"epa\": team_dict[\"epa\"][\"norm\"],\n",
    "            \"total_points\": team_dict[\"epa\"][\"breakdown\"][\"total_points\"],\n",
    "            \"auto_points\": team_dict[\"epa\"][\"breakdown\"][\"auto_points\"],\n",
    "            \"teleop_points\": team_dict[\"epa\"][\"breakdown\"][\"teleop_points\"],\n",
    "            \"endgame_points\": team_dict[\"epa\"][\"breakdown\"][\"endgame_points\"],\n",
    "            \"winrate\": team_dict[\"record\"][\"winrate\"],\n",
    "            \"rank\": team_dict[\"epa\"][\"ranks\"][\"total\"][\"rank\"],\n",
    "            \n",
    "            }\n",
    "        \n",
    "        return team_info\n",
    "    except requests.ConnectionError as e:\n",
    "        print(e)\n",
    "    except KeyError as e:\n",
    "        raise KeyError(f\"Key Error fetching statbotics stats\\n{team}, {event_key}\\n{e}\")"
   ]
  },
  {
   "cell_type": "code",
   "execution_count": 343,
   "id": "f148f2db",
   "metadata": {},
   "outputs": [],
   "source": [
    "def get_tba_oprs_event(event_key):\n",
    "    try:\n",
    "        req = requests.get(f\"https://www.thebluealliance.com/api/v3/event/{event_key}/oprs\", TBA_HEADER)\n",
    "        \n",
    "        oprs_res = req.json()\n",
    "        \n",
    "        req = requests.get(\n",
    "            f\"https://www.thebluealliance.com/api/v3/event/{event_key}/coprs\",\n",
    "            TBA_HEADER,\n",
    "        )\n",
    "\n",
    "        coprs_res = req.json()\n",
    "        final_oprs = {}\n",
    "        final_oprs = {\n",
    "            \"opr\": oprs_res['oprs'], \n",
    "            \"ccwm\": oprs_res['ccwms'],\n",
    "            \"l3_count\": coprs_res[\"L3 Coral Count\"], \n",
    "            \"l4_count\": coprs_res[\"L4 Coral Count\"],\n",
    "            \"coral_count\": coprs_res[\"Total Coral Count\"],\n",
    "            \"algae_count\": coprs_res[\"Total Algae Count\"]\n",
    "            }\n",
    "        \n",
    "        return final_oprs\n",
    "    except requests.ConnectionError as e:\n",
    "        print(e)\n",
    "    except KeyError as e:\n",
    "        raise KeyError(f\"Key Error fetching TBA stats {event_key}\\n{e}\")\n",
    "    "
   ]
  },
  {
   "cell_type": "code",
   "execution_count": null,
   "id": "b924067e",
   "metadata": {},
   "outputs": [],
   "source": [
    "get_tba_oprs_event(\"2025ohsc\")"
   ]
  },
  {
   "cell_type": "code",
   "execution_count": 345,
   "id": "7a584aa7",
   "metadata": {},
   "outputs": [],
   "source": [
    "@functools.lru_cache(maxsize=64)\n",
    "def get_tba_oprs_team_event(team, event_key):\n",
    "    team = str(team)\n",
    "    oprs_info = get_tba_oprs_event(event_key)\n",
    "    \n",
    "    team_specific_stats = {}\n",
    "    \n",
    "    for opr in oprs_info.keys():\n",
    "        team_specific_stats[opr] = oprs_info[opr][f\"frc{str(team)}\"]\n",
    "        \n",
    "    return team_specific_stats"
   ]
  },
  {
   "cell_type": "code",
   "execution_count": null,
   "id": "a516b34e",
   "metadata": {},
   "outputs": [],
   "source": [
    "get_tba_oprs_team_event(\"4028\", \"2025ohsc\")"
   ]
  },
  {
   "cell_type": "code",
   "execution_count": 347,
   "id": "e77f8e9a",
   "metadata": {},
   "outputs": [],
   "source": [
    "def get_team_features(team, event_key):\n",
    "    team = str(team)\n",
    "    sb_stats = get_sb_team_stats_event(team, event_key)\n",
    "    \n",
    "    tba_stats = get_tba_oprs_team_event(team, event_key)\n",
    "    \n",
    "    return sb_stats | tba_stats"
   ]
  },
  {
   "cell_type": "code",
   "execution_count": null,
   "id": "ed23a282",
   "metadata": {},
   "outputs": [],
   "source": [
    "get_team_features(4028, \"2025ohsc\")"
   ]
  },
  {
   "cell_type": "code",
   "execution_count": 349,
   "id": "8f79f516",
   "metadata": {},
   "outputs": [],
   "source": [
    "def get_event_week(event_key):\n",
    "    try:\n",
    "        req = requests.get(f\"https://www.thebluealliance.com/api/v3/event/{event_key}\", TBA_HEADER)\n",
    "        \n",
    "        res = req.json()\n",
    "        \n",
    "        return res['week']\n",
    "    except requests.ConnectionError as e:\n",
    "        print(f\"Error fetching {event_key} week:\\n{e}\")"
   ]
  },
  {
   "cell_type": "code",
   "execution_count": 350,
   "id": "bee13c9c",
   "metadata": {},
   "outputs": [
    {
     "data": {
      "text/plain": [
       "2"
      ]
     },
     "execution_count": 350,
     "metadata": {},
     "output_type": "execute_result"
    }
   ],
   "source": [
    "get_event_week(\"2025mxle\")"
   ]
  },
  {
   "cell_type": "code",
   "execution_count": 360,
   "id": "46bd885d",
   "metadata": {},
   "outputs": [],
   "source": [
    "def get_match_features(match_key: str) -> dict:\n",
    "\n",
    "    event_key = match_key.split(\"_\")[0]\n",
    "\n",
    "    try:\n",
    "        req = requests.get(\n",
    "            f\"https://www.thebluealliance.com/api/v3/match/{match_key}/simple\",\n",
    "            TBA_HEADER,\n",
    "        )\n",
    "        req.raise_for_status()\n",
    "        alliances = req.json()[\"alliances\"]\n",
    "\n",
    "        red_teams = [team[3:] for team in alliances[\"red\"][\"team_keys\"]]\n",
    "        blue_teams = [team[3:] for team in alliances[\"blue\"][\"team_keys\"]]\n",
    "\n",
    "        event_week = get_event_week(event_key)\n",
    "\n",
    "        raw_features = {}\n",
    "        raw_features['week'] = 8 if event_week is None else event_week\n",
    "\n",
    "        for i in range(3):\n",
    "            \n",
    "            red_team_stats = get_team_features(red_teams[i], event_key)\n",
    "            blue_team_stats = get_team_features(blue_teams[i], event_key)\n",
    "\n",
    "            for stat_name, value in red_team_stats.items():\n",
    "\n",
    "                if stat_name not in [\"team\", \"event\"]:\n",
    "                    raw_features[f\"red{i+1}_{stat_name}\"] = value\n",
    "\n",
    "            for stat_name, value in blue_team_stats.items():\n",
    "                if stat_name not in [\"team\", \"event\"]:\n",
    "                    raw_features[f\"blue{i+1}_{stat_name}\"] = value\n",
    "\n",
    "        ordered_match_features = {\n",
    "            feature: raw_features.get(feature, 0.0) for feature in FEATURE_ORDER\n",
    "        }\n",
    "\n",
    "        return ordered_match_features\n",
    "\n",
    "    except requests.exceptions.RequestException as e:\n",
    "        print(f\"Error obteniendo datos para el partido {match_key}: {e}\")\n",
    "        return None\n",
    "    except KeyError as e:\n",
    "        print(\n",
    "            f\"Error procesando el partido {match_key}. ¿Falta un equipo o una clave?: {e}\"\n",
    "        )\n",
    "        return None"
   ]
  },
  {
   "cell_type": "code",
   "execution_count": 353,
   "id": "61c828b9",
   "metadata": {},
   "outputs": [],
   "source": [
    "\n",
    "classifier = XGBClassifier()\n",
    "classifier.load_model('../models/classification/classification.json')"
   ]
  },
  {
   "cell_type": "code",
   "execution_count": 354,
   "id": "a8dee7a8",
   "metadata": {},
   "outputs": [],
   "source": [
    "red_regressor = XGBRegressor()\n",
    "red_regressor.load_model('../models/regression/red_model.json')"
   ]
  },
  {
   "cell_type": "code",
   "execution_count": 355,
   "id": "aafe5b8c",
   "metadata": {},
   "outputs": [],
   "source": [
    "blue_regressor = XGBRegressor()\n",
    "blue_regressor.load_model('../models/regression/blue_model.json')"
   ]
  },
  {
   "cell_type": "code",
   "execution_count": 361,
   "id": "85f66a0b",
   "metadata": {},
   "outputs": [],
   "source": [
    "def predict_match_outcome(match_key: str):\n",
    "    features_dict = get_match_features(match_key)\n",
    "    \n",
    "    if not features_dict:\n",
    "        print(f\"Error: No se pudieron obtener las características para el partido {match_key}.\")\n",
    "        return None\n",
    "\n",
    "    features_df = pd.DataFrame([features_dict])\n",
    "\n",
    "    try:\n",
    "        win_probabilities = classifier.predict_proba(features_df)[0]\n",
    "        \n",
    "        prob_red_win = win_probabilities[0]\n",
    "        prob_blue_win = win_probabilities[1]\n",
    "        \n",
    "        predicted_winner = \"blue\" if prob_blue_win > prob_red_win else \"red\"\n",
    "\n",
    "        predicted_red_score = red_regressor.predict(features_df)[0]\n",
    "        predicted_blue_score = blue_regressor.predict(features_df)[0]\n",
    "\n",
    "        \n",
    "        prediction_result = {\n",
    "            \"match_key\": match_key,\n",
    "            \"predicted_winner\": predicted_winner,\n",
    "            \"win_probability\": {\n",
    "                \"red\": round(float(prob_red_win), 4),\n",
    "                \"blue\": round(float(prob_blue_win), 4)\n",
    "            },\n",
    "            \"predicted_scores\": {\n",
    "                \"red\": int(round(predicted_red_score)),\n",
    "                \"blue\": int(round(predicted_blue_score))\n",
    "            }\n",
    "        }\n",
    "        \n",
    "        return prediction_result\n",
    "\n",
    "    except Exception as e:\n",
    "        print(f\"Ocurrió un error durante la predicción para {match_key}: {e}\")\n",
    "        return None"
   ]
  },
  {
   "cell_type": "code",
   "execution_count": 372,
   "id": "4d0211d9",
   "metadata": {},
   "outputs": [
    {
     "name": "stdout",
     "output_type": "stream",
     "text": [
      "--- Predicción para 2025cafb_qm6 ---\n",
      "Ganador Predicho: RED\n",
      "  Probabilidad de Victoria:\n",
      "    - Azul: 23.59%\n",
      "    - Rojo: 76.41%\n",
      "  Puntajes Estimados:\n",
      "    - Azul: 100\n",
      "    - Rojo: 108\n"
     ]
    }
   ],
   "source": [
    "match_to_predict = \"2025cafb_qm6\" \n",
    "full_prediction = predict_match_outcome(match_to_predict)\n",
    "\n",
    "if full_prediction:\n",
    "    print(f\"--- Predicción para {full_prediction['match_key']} ---\")\n",
    "    print(f\"Ganador Predicho: {full_prediction['predicted_winner'].upper()}\")\n",
    "    print(f\"  Probabilidad de Victoria:\")\n",
    "    print(f\"    - Azul: {full_prediction['win_probability']['blue']:.2%}\")\n",
    "    print(f\"    - Rojo: {full_prediction['win_probability']['red']:.2%}\")\n",
    "    print(f\"  Puntajes Estimados:\")\n",
    "    print(f\"    - Azul: {full_prediction['predicted_scores']['blue']}\")\n",
    "    print(f\"    - Rojo: {full_prediction['predicted_scores']['red']}\")"
   ]
  }
 ],
 "metadata": {
  "kernelspec": {
   "display_name": ".venv",
   "language": "python",
   "name": "python3"
  },
  "language_info": {
   "codemirror_mode": {
    "name": "ipython",
    "version": 3
   },
   "file_extension": ".py",
   "mimetype": "text/x-python",
   "name": "python",
   "nbconvert_exporter": "python",
   "pygments_lexer": "ipython3",
   "version": "3.13.3"
  }
 },
 "nbformat": 4,
 "nbformat_minor": 5
}
